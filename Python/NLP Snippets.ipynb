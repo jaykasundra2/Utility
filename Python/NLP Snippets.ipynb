{
 "cells": [
  {
   "cell_type": "code",
   "execution_count": null,
   "metadata": {},
   "outputs": [],
   "source": [
    "import pandas as pd\n",
    "import numpy as np\n",
    "df = pd.read_csv(r'Amazon Customer Reviews.csv')"
   ]
  },
  {
   "cell_type": "code",
   "execution_count": null,
   "metadata": {},
   "outputs": [],
   "source": [
    "# replace nan with space in a text column\n",
    "temp =df.copy()\n",
    "temp['review_body'] = df['review_body'].replace(np.nan,'')"
   ]
  },
  {
   "cell_type": "code",
   "execution_count": null,
   "metadata": {},
   "outputs": [],
   "source": [
    "# filter a text column based on a word(substring) which can appear \n",
    "# anywhere(part of a bigger word as well) in the text \n",
    "# for e.g. filtering on 'sub' wil match to '... sub ...'  '... substitute ...' both:\n",
    "temp = df.copy()\n",
    "temp = temp[temp['review_body'].str.contains('like')] # this will give error because of only numeric values in a cell\n",
    "temp = temp[temp['review_body'].map(str).str.contains('like')]\n"
   ]
  },
  {
   "cell_type": "code",
   "execution_count": null,
   "metadata": {},
   "outputs": [],
   "source": [
    "# filter a text column based on a word(substring) which can appear as a word only in the text for e.g. filtering on 'sub' wil match to '... sub ...' only and not to  '... substitute ...'\n",
    "temp = df.copy()\n",
    "temp = temp[temp['review_body'].map(str).str.contains(r'\\b%s\\b' % 'like',regex=True)]\n"
   ]
  },
  {
   "cell_type": "code",
   "execution_count": null,
   "metadata": {},
   "outputs": [],
   "source": [
    "# replace a substring in all rows of a column - similar to 1\n",
    "temp = df.copy()\n",
    "temp['review_body'] = temp['review_body'].apply(lambda x: re.sub('like' ,'',str(x)))"
   ]
  },
  {
   "cell_type": "code",
   "execution_count": null,
   "metadata": {},
   "outputs": [],
   "source": [
    "# replace a substring in all rows of a column - similar to 2\n",
    "temp = df.copy()\n",
    "temp['review_body'] = temp['review_body'].apply(lambda x: re.sub(r'\\b%s\\b' % 'like','',str(x)))"
   ]
  },
  {
   "cell_type": "code",
   "execution_count": null,
   "metadata": {},
   "outputs": [],
   "source": [
    "# combine entire text column as a single text\n",
    "temp = df.copy()\n",
    "text = temp['review_body'].map(str).str.cat(sep=' ')\n"
   ]
  },
  {
   "cell_type": "code",
   "execution_count": null,
   "metadata": {},
   "outputs": [],
   "source": [
    "# count the n-grams of a text \n",
    "import collections\n",
    "from nltk.util import ngrams # function for making ngrams\n",
    "temp = df.copy()\n",
    "text = temp['review_body'].map(str).str.cat(sep=' ')\n",
    "    # first get individual words\n",
    "tokenized = text.split()\n",
    "    # and get a list of all the n-grams\n",
    "esBigrams = ngrams(tokenized, 2)\n",
    "    # get the frequency of each n-gram in our corpus\n",
    "esBigramFreq = collections.Counter(esBigrams)\n",
    "    # what are the ten most popular ngrams\n",
    "esBigramFreq.most_common(10)"
   ]
  },
  {
   "cell_type": "code",
   "execution_count": null,
   "metadata": {},
   "outputs": [],
   "source": [
    "# text processing\n",
    "\n",
    "def text_process(text):    \n",
    "    if text is None or text is np.nan:\n",
    "        return ''\n",
    "    text = str(text)\n",
    "    text = re.sub('[^a-zA-Z0-9\\s]', ' ', text) # keep only alphanumeric and spaces       \n",
    "    text = re.sub('\\s+', ' ', text) # replace multiple whitespaces with single whitespace in a text column\n",
    "    text = text.lower() # convert to lower case\n",
    "    text = text.strip() # remove leading and trailing white spaces\n",
    "    pattern = '(\\<(.*?)\\>)'\n",
    "    text = re.sub(pattern, ' ', text)\t# remove everything between parantheses\n",
    "    return text\n",
    "\n",
    "temp = df.copy()\n",
    "temp['review_body'] = temp['review_body'].apply(text_process)\n"
   ]
  },
  {
   "cell_type": "code",
   "execution_count": null,
   "metadata": {},
   "outputs": [],
   "source": [
    "# combine two text columns\n",
    "temp = df.copy()\n",
    "temp['review_headline'] = temp['review_headline'].replace(np.nan,'')\n",
    "temp['review_body'] = temp['review_body'].replace(np.nan,'')\n",
    "\n",
    "temp['combined_review'] = temp['review_headline']+temp['review_body'] # Do not do this. This will introduce NAs\n",
    "temp['combined_review'] = temp['review_headline'].map(str)+' '+temp['review_body'].map(str)\n"
   ]
  },
  {
   "cell_type": "code",
   "execution_count": null,
   "metadata": {},
   "outputs": [],
   "source": [
    "# combine multiple text columns\n",
    "temp = df.copy()\n",
    "combine_text_columns = ['review_headline','review_body']\n",
    "temp['combined_review'] =  temp.loc[:,combine_text_columns].apply(lambda x: ' '.join(x.dropna().astype(str)),axis=1) \n",
    "# or\n",
    "temp['combined_review'] = temp.loc[:,combine_text_columns].agg(' '.join, axis=1)"
   ]
  },
  {
   "cell_type": "code",
   "execution_count": null,
   "metadata": {},
   "outputs": [],
   "source": [
    "# filter rows which are nonNA in a text column\n",
    "temp = df.copy()\n",
    "temp = temp[temp['review_body'].notnull()]\n"
   ]
  },
  {
   "cell_type": "code",
   "execution_count": null,
   "metadata": {},
   "outputs": [],
   "source": [
    "# create labels from text column and save it as a list in new column\n",
    "def extract_labels (text):\n",
    "    labels = list()\n",
    "    for word in str(text).split(\" \"):\n",
    "        if (word not in stopwords.words('english')):\n",
    "            labels.append(word)\n",
    "    return list(labels)\n",
    "temp = df.copy()\n",
    "temp['labels'] = list(map(lambda x: extract_labels(x), temp['review_body'].map(str)+temp['review_headline'].map(str)))\n"
   ]
  },
  {
   "cell_type": "code",
   "execution_count": null,
   "metadata": {},
   "outputs": [],
   "source": [
    "# create labels from text column and save it as a list in new column with duplicates removed\n",
    "def extract_labels (text):\n",
    "    labels = set()\n",
    "    for word in str(text).split(\" \"):\n",
    "        if (word not in stopwords.words('english')):\n",
    "            labels.add(word)\n",
    "    return list(labels)\n",
    "temp = df.copy()\n",
    "temp['labels'] = list(map(lambda x: extract_labels(x), temp['review_body'].map(str)+temp['review_headline'].map(str)))\n"
   ]
  },
  {
   "cell_type": "code",
   "execution_count": null,
   "metadata": {},
   "outputs": [],
   "source": [
    "# filter columns that starts with a string\n",
    "temp = df.copy()\n",
    "temp = temp.loc[:,~temp.columns.str.startswith('review')]\n"
   ]
  },
  {
   "cell_type": "code",
   "execution_count": null,
   "metadata": {},
   "outputs": [],
   "source": [
    "# exclude specific columns \n",
    "temp = df.copy()\n",
    "temp = temp.loc[:,~temp.columns.str.isin(['review_body','review_headline'])]\n",
    "    # or\n",
    "temp = temp.drop(columns = ['review_body','review_headline'])\n",
    "    # or    \n",
    "temp = temp[temp.columns.difference(['review_body','review_headline'])]\n"
   ]
  },
  {
   "cell_type": "code",
   "execution_count": null,
   "metadata": {},
   "outputs": [],
   "source": [
    "# get dataframe column names in a list\n",
    "temp = df.copy()\n",
    "ls = list(temp.columns.values) + ['review_body']"
   ]
  },
  {
   "cell_type": "code",
   "execution_count": null,
   "metadata": {},
   "outputs": [],
   "source": [
    "# identify word frequency count\n",
    "temp = df.copy()\n",
    "single_text = temp['review_body'].str.cat(sep=' ')    \n",
    "Counter(single_text.split()).most_common(5)\n"
   ]
  },
  {
   "cell_type": "code",
   "execution_count": 2,
   "metadata": {},
   "outputs": [
    {
     "data": {
      "text/plain": [
       "0    A\n",
       "1    B\n",
       "2    C\n",
       "3    D\n",
       "4    E\n",
       "5    F\n",
       "6    G\n",
       "7    H\n",
       "dtype: object"
      ]
     },
     "execution_count": 2,
     "metadata": {},
     "output_type": "execute_result"
    }
   ],
   "source": [
    "# combine all columns of a dataframe into single column\n",
    "temp = pd.DataFrame({'Column 1':['A', 'B', 'C', 'D'],'Column 2':['E', 'F', 'G', 'H']})\n",
    "pd.Series(temp.values.ravel('F'))\n"
   ]
  },
  {
   "cell_type": "code",
   "execution_count": null,
   "metadata": {},
   "outputs": [],
   "source": [
    "# remove everything after a special character in string\n",
    "text = 'some string... this part will be removed.'\n",
    "head, sep, tail = text.partition('...')\n",
    "text.split('...', 1)[0]\n",
    "re.sub(r'\\.\\.\\..*',\"\",text)"
   ]
  },
  {
   "cell_type": "code",
   "execution_count": null,
   "metadata": {},
   "outputs": [],
   "source": [
    "# special characters from a text\n",
    "text = \"W-4 ~ 456/123 ~ MT 2\"\n",
    "list(set(list(''.join(e for e in text if not e.isalnum()))))\n"
   ]
  },
  {
   "cell_type": "code",
   "execution_count": null,
   "metadata": {},
   "outputs": [],
   "source": [
    "### NLP\n",
    "# using startswith in selection\n",
    "df = df[df['gene'].str.startswith(\"snR17\")] \n",
    "# combining with making case not matter by making lower case (or upper), requires complexity that didn't appear obvious to me\n",
    "df = df[df['gene'].str.lower().str.startswith(\"snr17\")] # solution from https://stackoverflow.com/a/22909357/8508004; they also had a regex solution offered that failed\n",
    "\n",
    "# Lower-case everything in a DataFrame column\n",
    "df.column_name = df.column_name.str.lower()\n",
    "\n",
    "# Get length of data in a DataFrame column\n",
    "df.column_name.str.len()"
   ]
  },
  {
   "cell_type": "code",
   "execution_count": null,
   "metadata": {},
   "outputs": [],
   "source": [
    "# extract unique words and count the number of occurances of rows having that keyword\n",
    "temp = df.copy() \n",
    "def extract_labels (text):\n",
    "    labels = set()\n",
    "    for word in str(text).split(\" \"):\n",
    "        if (word not in stopwords.words('english')):\n",
    "            labels.add(word)\n",
    "    return list(labels)\n",
    "\n",
    "temp['review_body'] = temp['review_body'].replace(np.nan,'')\n",
    "temp['label'] = list(map(lambda x: extract_labels(x), temp['review_body']))\n",
    "temp = temp.set_index(['review_id','review_body'])    \n",
    "melted = (pd.melt(temp['label'].apply(pd.Series).reset_index(),\n",
    "                           id_vars=['review_id','review_body'], value_name='label')\n",
    "         .drop('variable', axis=1)\n",
    "         .sort_index())   \n",
    "                \n",
    "row_counts = pd.DataFrame()\n",
    "row_counts = melted.groupby(['label']).size()\n",
    "row_counts = row_counts.reset_index(name='count')\n",
    "row_counts = row_counts[row_counts.label !='']"
   ]
  },
  {
   "cell_type": "code",
   "execution_count": null,
   "metadata": {},
   "outputs": [],
   "source": [
    "# plot wordcloud of a text column\n",
    "\n",
    "import re\n",
    "from wordcloud import WordCloud, STOPWORDS\n",
    "from nltk.corpus import stopwords\n",
    "\n",
    "STOPWORDS = set(stopwords.words('english'))\n",
    "\n",
    "def generate_ngrams(s, n):    \n",
    "    # Break sentence in the token, remove empty tokens\n",
    "    tokens = [token for token in s.split(\" \") if token != \"\"]\n",
    "\n",
    "    ngrams = zip(*[tokens[i:] for i in range(n)])\n",
    "    return [\" \".join(ngram) for ngram in ngrams]\n",
    "\n",
    "def create_wordcloud(text_freq, maxwords):\n",
    "    wordcloud = WordCloud(stopwords=STOPWORDS, max_words=maxwords, normalize_plurals=False).generate_from_frequencies(text_freq)\n",
    "    plt.figure(figsize=(10, 10))\n",
    "    plt.imshow(wordcloud, interpolation='bilinear')\n",
    "    plt.axis(\"off\")\n",
    "    plt.show()\n",
    "\n",
    "unigram = []\n",
    "bigram = []\n",
    "\n",
    "for index, row in temp.iterrows():\n",
    "    unigram += [w.strip() for w in generate_ngrams(str(row[\"review_body\"]), 1) if w not in STOPWORDS and len(w)>1]\n",
    "    bigram += [w for w in generate_ngrams(str(row[\"review_body\"]), 2) if len(set(w.split()).intersection(STOPWORDS))==0]\n",
    "\n",
    "from collections import Counter \n",
    "unigram_count = Counter(unigram)\n",
    "bigram_count = Counter(bigram)\n",
    "    \n",
    "import matplotlib.pyplot as plt\n",
    "create_wordcloud(unigram_count, 100)"
   ]
  }
 ],
 "metadata": {
  "kernelspec": {
   "display_name": "Python 3",
   "language": "python",
   "name": "python3"
  },
  "language_info": {
   "codemirror_mode": {
    "name": "ipython",
    "version": 3
   },
   "file_extension": ".py",
   "mimetype": "text/x-python",
   "name": "python",
   "nbconvert_exporter": "python",
   "pygments_lexer": "ipython3",
   "version": "3.8.3"
  }
 },
 "nbformat": 4,
 "nbformat_minor": 4
}
