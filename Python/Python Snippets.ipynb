{
 "cells": [
  {
   "cell_type": "code",
   "execution_count": null,
   "metadata": {},
   "outputs": [],
   "source": [
    "# combine elements of list\n",
    "list_1 = [1,2,3]\n",
    "list_2 = [4,5,6]\n",
    "list_1 + list_2 # [1, 2, 3, 4, 5, 6]\n",
    "[list_1,list_2] # [[1, 2, 3], [4, 5, 6]]"
   ]
  },
  {
   "cell_type": "code",
   "execution_count": null,
   "metadata": {},
   "outputs": [],
   "source": [
    "# elements that are part of one element but not the other - list difference\n",
    "list_1 = [1,2,3,4]\n",
    "list_2 = [4,5,6]\n",
    "print([element for element in list_1 if element not in list_2])"
   ]
  },
  {
   "cell_type": "code",
   "execution_count": null,
   "metadata": {},
   "outputs": [],
   "source": [
    "# Check if a list is empty\n",
    "a = []\n",
    "if not a:\n",
    "    print('a is an empty list')\n"
   ]
  },
  {
   "cell_type": "code",
   "execution_count": null,
   "metadata": {},
   "outputs": [],
   "source": [
    "# Delete items from dictionary while iterating \n",
    "# (https://www.geeksforgeeks.org/python-delete-items-from-dictionary-while-iterating/)\n",
    "myDict = {1: 'Geeks', 2: 'For', 3: 'Geeks'} \n",
    "delete = [key for key in myDict if key == 3] \n",
    "for key in delete: \n",
    "    del myDict[key] \n",
    "print(myDict) "
   ]
  },
  {
   "cell_type": "code",
   "execution_count": null,
   "metadata": {},
   "outputs": [],
   "source": [
    "# write multiple dataframes to a single excel file\n",
    "with pd.ExcelWriter('output.xlsx') as writer:  \n",
    "    df1.to_excel(writer, sheet_name='sheet1')\n",
    "    df2.to_excel(writer, sheet_name='sheet2')\n"
   ]
  },
  {
   "cell_type": "code",
   "execution_count": null,
   "metadata": {},
   "outputs": [],
   "source": [
    "\n",
    "# append columns to a dataframe in for loop\n",
    "temp_df = df.copy()\n",
    "result_temp_df = pd.DataFrame()\n",
    "for i in range(5):   \n",
    "    loc_df = temp_df.iloc[:,i]\n",
    "    result_temp_df = pd.concat([result_temp_df,loc_df],axis=1)\n"
   ]
  },
  {
   "cell_type": "code",
   "execution_count": null,
   "metadata": {},
   "outputs": [],
   "source": [
    "# append rows to a dataframe in for loop\n",
    "temp_df = df.copy()\n",
    "result_temp_df = pd.DataFrame()\n",
    "for i in range(5):   \n",
    "    result_temp_df.loc[i,'column1'] = 'Column1_Value'\n",
    "    result_temp_df.loc[i,'column2'] = 'Column2_Value'\n",
    "    result_temp_df.loc[i,'column3'] = 'Column3_Value'\n",
    " "
   ]
  },
  {
   "cell_type": "code",
   "execution_count": null,
   "metadata": {},
   "outputs": [],
   "source": [
    "# Update dataframe row in for loop\n",
    "for i, row in df.iterrows():\n",
    "      ifor_val = something\n",
    "      if <condition>:\n",
    "        ifor_val = something_else\n",
    "      df.at[i,'ifor'] = ifor_val\n",
    "\n"
   ]
  },
  {
   "cell_type": "markdown",
   "metadata": {},
   "source": [
    "#### Datetime"
   ]
  },
  {
   "cell_type": "code",
   "execution_count": 4,
   "metadata": {},
   "outputs": [],
   "source": [
    "from datetime import datetime"
   ]
  },
  {
   "cell_type": "code",
   "execution_count": 5,
   "metadata": {},
   "outputs": [
    {
     "data": {
      "text/plain": [
       "datetime.datetime(2019, 11, 13, 9, 7, 43, 731000)"
      ]
     },
     "execution_count": 5,
     "metadata": {},
     "output_type": "execute_result"
    }
   ],
   "source": [
    "# Datetime object from date time string in ISO format\n",
    "iso_date_format = \"%Y-%m-%dT%H:%M:%S.%fZ\"\n",
    "iso_date =  \"2019-11-13T09:07:43.731Z\"\n",
    "date_obj = datetime.strptime(iso_date, iso_date_format)\n",
    "date_obj"
   ]
  },
  {
   "cell_type": "code",
   "execution_count": 8,
   "metadata": {},
   "outputs": [
    {
     "name": "stdout",
     "output_type": "stream",
     "text": [
      "2021-05-10 12:07:31.665414\n"
     ]
    }
   ],
   "source": [
    "# Current system time\n",
    "current_time = datetime.now() ; print(current_time)"
   ]
  },
  {
   "cell_type": "code",
   "execution_count": 7,
   "metadata": {},
   "outputs": [
    {
     "name": "stdout",
     "output_type": "stream",
     "text": [
      "2021-05-10 06:37:26.316110\n"
     ]
    }
   ],
   "source": [
    "# Curent UTC time\n",
    "current_utc_now = datetime.utcnow() ; print(current_utc_now)"
   ]
  },
  {
   "cell_type": "code",
   "execution_count": null,
   "metadata": {},
   "outputs": [],
   "source": [
    "# Format date-time\n",
    "now = datetime.now()\n",
    "# Format: YYYY-MM-DD HH:MM:SS\n",
    "print(now.strftime(\"%Y-%m-%d %H:%M:%S\"))"
   ]
  },
  {
   "cell_type": "code",
   "execution_count": 14,
   "metadata": {},
   "outputs": [
    {
     "name": "stdout",
     "output_type": "stream",
     "text": [
      "1620648691\n"
     ]
    }
   ],
   "source": [
    "# Current time in Unix time stamp\n",
    "import calendar\n",
    "now = datetime.now()\n",
    "timestamp = calendar.timegm(now.timetuple())\n",
    "print(timestamp)"
   ]
  },
  {
   "cell_type": "code",
   "execution_count": 13,
   "metadata": {},
   "outputs": [
    {
     "name": "stdout",
     "output_type": "stream",
     "text": [
      "2017-02-02 00:13:40\n",
      "2017-02-02 05:43:40\n"
     ]
    }
   ],
   "source": [
    "# Unix timestamp to utc time\n",
    "\n",
    "# considers system time zone\n",
    "date_time = datetime.utcfromtimestamp(1485994420); print(date_time)\n",
    "\n",
    "# to get real utc time\n",
    "date_time = datetime.fromtimestamp(1485994420); print(date_time)\n"
   ]
  },
  {
   "cell_type": "code",
   "execution_count": 12,
   "metadata": {},
   "outputs": [
    {
     "data": {
      "text/plain": [
       "'2021-05-10T06:39:10.877722'"
      ]
     },
     "execution_count": 12,
     "metadata": {},
     "output_type": "execute_result"
    }
   ],
   "source": [
    "# Date in ISO 8601 format.\n",
    "# isoformat() returns string instead of datetime.\n",
    "\n",
    "datetime.utcnow().isoformat()"
   ]
  },
  {
   "cell_type": "code",
   "execution_count": 11,
   "metadata": {},
   "outputs": [
    {
     "data": {
      "text/plain": [
       "'2021-05-10T12:09:09.494073'"
      ]
     },
     "execution_count": 11,
     "metadata": {},
     "output_type": "execute_result"
    }
   ],
   "source": [
    "datetime.now().isoformat()"
   ]
  },
  {
   "cell_type": "code",
   "execution_count": null,
   "metadata": {},
   "outputs": [],
   "source": [
    "import pandas as pd\n",
    "date='2020/11/26 12:00:00'\n",
    "date_time=pd.to_datetime(date, format='%Y/%m/%d %H:%M:%S')"
   ]
  },
  {
   "cell_type": "code",
   "execution_count": null,
   "metadata": {},
   "outputs": [],
   "source": [
    "# current datetime pandas\n",
    "today = pd.to_datetime(\"today\")\n",
    "print(today)\n",
    "# convert column to timestamp pandas\n",
    "df2 = pd.to_datetime(df['col1'])\n",
    "\n",
    "friday = pd.Timestamp('2018-01-05')\n",
    "friday.day_name()\n",
    "\n",
    "# Add 1 day\n",
    "saturday = friday + pd.Timedelta('1 day')\n",
    "\n",
    "saturday.day_name()"
   ]
  },
  {
   "cell_type": "markdown",
   "metadata": {},
   "source": [
    "#### https://www.allthesnippets.com/browse/pandas/df_timeseries.html"
   ]
  },
  {
   "cell_type": "code",
   "execution_count": null,
   "metadata": {},
   "outputs": [],
   "source": [
    "# Create datetime object with python's native method\n",
    "date = datetime(year=2010, month=7, day=10, hour=10, minute=50); date"
   ]
  },
  {
   "cell_type": "code",
   "execution_count": null,
   "metadata": {},
   "outputs": [],
   "source": [
    "# Create datetime object with python's native method\n",
    "from dateutil import parser\n",
    "date = parser.parse(\"10th of July, 2020 10:50\"); date"
   ]
  },
  {
   "cell_type": "code",
   "execution_count": 15,
   "metadata": {},
   "outputs": [
    {
     "name": "stdout",
     "output_type": "stream",
     "text": [
      "Saturday\n",
      "July\n",
      "10:50\n"
     ]
    }
   ],
   "source": [
    "# Extract date, time parts from datetime\n",
    "\n",
    "date = datetime(year=2010, month=7, day=10, hour=10, minute=50)\n",
    "\n",
    "# format can be any code of strftime directive: http://strftime.org/\n",
    "print(date.strftime('%A'))\n",
    "print(date.strftime('%B'))\n",
    "print(date.strftime('%H:%M'))"
   ]
  },
  {
   "cell_type": "code",
   "execution_count": 16,
   "metadata": {},
   "outputs": [
    {
     "name": "stdout",
     "output_type": "stream",
     "text": [
      "2020-07-10\n",
      "2020-07-10T10:50\n"
     ]
    }
   ],
   "source": [
    "# Create datetime object with numpy (datetime64)\n",
    "import numpy as np\n",
    "date1 = np.array('2020-07-10', dtype=np.datetime64); print(date1)\n",
    "date2 = np.datetime64('2020-07-10 10:50'); print(date2)\n"
   ]
  },
  {
   "cell_type": "code",
   "execution_count": 17,
   "metadata": {},
   "outputs": [
    {
     "name": "stdout",
     "output_type": "stream",
     "text": [
      "2020-07-10 10:50:00\n",
      "DatetimeIndex(['2018-01-01', '2018-01-01', '2018-01-01'], dtype='datetime64[ns]', freq=None)\n"
     ]
    }
   ],
   "source": [
    "# Create datetime object with pandas (Timestamp)\n",
    "import pandas as pd\n",
    "date = pd.to_datetime(\"10th of July, 2020 10:50\"); print(date)\n",
    "\n",
    "# Create datetime object with pandas (datetime64)\n",
    "import datetime as datetime\n",
    "dti = pd.to_datetime(['1/1/2018', np.datetime64('2018-01-01'), datetime.datetime(2018, 1, 1)]); print(dti)\n"
   ]
  },
  {
   "cell_type": "code",
   "execution_count": 31,
   "metadata": {},
   "outputs": [
    {
     "name": "stdout",
     "output_type": "stream",
     "text": [
      "           ticker  open  close\n",
      "date                          \n",
      "2018-04-02   AAPL    99     99\n",
      "2019-04-02   AAPL   100     90\n",
      "2019-12-31   AAPL   110    120\n",
      "2020-04-07   AAPL   200    205\n",
      "2020-12-31   AAPL   205    210\n",
      "DatetimeIndex(['2018-04-02', '2019-04-02', '2019-12-31', '2020-04-07',\n",
      "               '2020-12-31'],\n",
      "              dtype='datetime64[ns]', name='date', freq=None)\n"
     ]
    }
   ],
   "source": [
    "# Create DataFrame with DatetimeIndex as index\n",
    "data = {'ticker': ['AAPL', 'AAPL', 'AAPL', 'AAPL', 'AAPL'],\n",
    "        'open': [99, 100, 110, 200, 205],\n",
    "        'close': [99, 90, 120, 205, 210]\n",
    "       }\n",
    "index = pd.DatetimeIndex(['2018-04-02', '2019-04-02', '2019-12-31', '2020-04-07', '2020-12-31'])\n",
    "\n",
    "df = pd.DataFrame(data, index)\n",
    "df.index.name = 'date'\n",
    "\n",
    "print(df)\n",
    "print(df.index)"
   ]
  },
  {
   "cell_type": "code",
   "execution_count": 32,
   "metadata": {},
   "outputs": [
    {
     "name": "stdout",
     "output_type": "stream",
     "text": [
      "           ticker  open  close\n",
      "date                          \n",
      "2019-04-02   AAPL   100     90\n",
      "2019-12-31   AAPL   110    120\n",
      "           ticker  open  close\n",
      "date                          \n",
      "2019-04-02   AAPL   100     90\n",
      "           ticker  open  close\n",
      "date                          \n",
      "2019-12-31   AAPL   110    120\n",
      "2020-04-07   AAPL   200    205\n"
     ]
    }
   ],
   "source": [
    "# Slice DataFrame with DatetimeIndex on specific year/month/period\n",
    "# 2019 rows only\n",
    "print(df['2019'])\n",
    "\n",
    "# 2019 April rows only\n",
    "print(df['2019-04'])\n",
    "\n",
    "# select rows for a specific time period\n",
    "print(df['2019-04-03':'2020-04-07'])"
   ]
  },
  {
   "cell_type": "code",
   "execution_count": 33,
   "metadata": {},
   "outputs": [
    {
     "data": {
      "text/html": [
       "<div>\n",
       "<style scoped>\n",
       "    .dataframe tbody tr th:only-of-type {\n",
       "        vertical-align: middle;\n",
       "    }\n",
       "\n",
       "    .dataframe tbody tr th {\n",
       "        vertical-align: top;\n",
       "    }\n",
       "\n",
       "    .dataframe thead th {\n",
       "        text-align: right;\n",
       "    }\n",
       "</style>\n",
       "<table border=\"1\" class=\"dataframe\">\n",
       "  <thead>\n",
       "    <tr style=\"text-align: right;\">\n",
       "      <th></th>\n",
       "      <th>open</th>\n",
       "      <th>close</th>\n",
       "    </tr>\n",
       "    <tr>\n",
       "      <th>date</th>\n",
       "      <th></th>\n",
       "      <th></th>\n",
       "    </tr>\n",
       "  </thead>\n",
       "  <tbody>\n",
       "    <tr>\n",
       "      <th>2018-12-31</th>\n",
       "      <td>99.0</td>\n",
       "      <td>99.0</td>\n",
       "    </tr>\n",
       "    <tr>\n",
       "      <th>2019-12-31</th>\n",
       "      <td>105.0</td>\n",
       "      <td>105.0</td>\n",
       "    </tr>\n",
       "    <tr>\n",
       "      <th>2020-12-31</th>\n",
       "      <td>202.5</td>\n",
       "      <td>207.5</td>\n",
       "    </tr>\n",
       "  </tbody>\n",
       "</table>\n",
       "</div>"
      ],
      "text/plain": [
       "             open  close\n",
       "date                    \n",
       "2018-12-31   99.0   99.0\n",
       "2019-12-31  105.0  105.0\n",
       "2020-12-31  202.5  207.5"
      ]
     },
     "execution_count": 33,
     "metadata": {},
     "output_type": "execute_result"
    }
   ],
   "source": [
    "# resample to annual frequency averaging values for each year\n",
    "df.resample('A').mean()"
   ]
  },
  {
   "cell_type": "code",
   "execution_count": 34,
   "metadata": {},
   "outputs": [
    {
     "data": {
      "text/html": [
       "<div>\n",
       "<style scoped>\n",
       "    .dataframe tbody tr th:only-of-type {\n",
       "        vertical-align: middle;\n",
       "    }\n",
       "\n",
       "    .dataframe tbody tr th {\n",
       "        vertical-align: top;\n",
       "    }\n",
       "\n",
       "    .dataframe thead th {\n",
       "        text-align: right;\n",
       "    }\n",
       "</style>\n",
       "<table border=\"1\" class=\"dataframe\">\n",
       "  <thead>\n",
       "    <tr style=\"text-align: right;\">\n",
       "      <th></th>\n",
       "      <th>ticker</th>\n",
       "      <th>open</th>\n",
       "      <th>close</th>\n",
       "    </tr>\n",
       "    <tr>\n",
       "      <th>date</th>\n",
       "      <th></th>\n",
       "      <th></th>\n",
       "      <th></th>\n",
       "    </tr>\n",
       "  </thead>\n",
       "  <tbody>\n",
       "    <tr>\n",
       "      <th>2018-12-31</th>\n",
       "      <td>NaN</td>\n",
       "      <td>NaN</td>\n",
       "      <td>NaN</td>\n",
       "    </tr>\n",
       "    <tr>\n",
       "      <th>2019-12-31</th>\n",
       "      <td>AAPL</td>\n",
       "      <td>110.0</td>\n",
       "      <td>120.0</td>\n",
       "    </tr>\n",
       "    <tr>\n",
       "      <th>2020-12-31</th>\n",
       "      <td>AAPL</td>\n",
       "      <td>205.0</td>\n",
       "      <td>210.0</td>\n",
       "    </tr>\n",
       "  </tbody>\n",
       "</table>\n",
       "</div>"
      ],
      "text/plain": [
       "           ticker   open  close\n",
       "date                           \n",
       "2018-12-31    NaN    NaN    NaN\n",
       "2019-12-31   AAPL  110.0  120.0\n",
       "2020-12-31   AAPL  205.0  210.0"
      ]
     },
     "execution_count": 34,
     "metadata": {},
     "output_type": "execute_result"
    }
   ],
   "source": [
    "# resample to annual frequency selecting the values at the end of each year\n",
    "# note the default NaN when no data for end of year 2018\n",
    "df.asfreq('A')"
   ]
  },
  {
   "cell_type": "code",
   "execution_count": 35,
   "metadata": {},
   "outputs": [
    {
     "data": {
      "text/html": [
       "<div>\n",
       "<style scoped>\n",
       "    .dataframe tbody tr th:only-of-type {\n",
       "        vertical-align: middle;\n",
       "    }\n",
       "\n",
       "    .dataframe tbody tr th {\n",
       "        vertical-align: top;\n",
       "    }\n",
       "\n",
       "    .dataframe thead th {\n",
       "        text-align: right;\n",
       "    }\n",
       "</style>\n",
       "<table border=\"1\" class=\"dataframe\">\n",
       "  <thead>\n",
       "    <tr style=\"text-align: right;\">\n",
       "      <th></th>\n",
       "      <th>ticker</th>\n",
       "      <th>open</th>\n",
       "      <th>close</th>\n",
       "    </tr>\n",
       "    <tr>\n",
       "      <th>date</th>\n",
       "      <th></th>\n",
       "      <th></th>\n",
       "      <th></th>\n",
       "    </tr>\n",
       "  </thead>\n",
       "  <tbody>\n",
       "    <tr>\n",
       "      <th>2018-12-31</th>\n",
       "      <td>AAPL</td>\n",
       "      <td>99</td>\n",
       "      <td>99</td>\n",
       "    </tr>\n",
       "    <tr>\n",
       "      <th>2019-12-31</th>\n",
       "      <td>AAPL</td>\n",
       "      <td>110</td>\n",
       "      <td>120</td>\n",
       "    </tr>\n",
       "    <tr>\n",
       "      <th>2020-12-31</th>\n",
       "      <td>AAPL</td>\n",
       "      <td>205</td>\n",
       "      <td>210</td>\n",
       "    </tr>\n",
       "  </tbody>\n",
       "</table>\n",
       "</div>"
      ],
      "text/plain": [
       "           ticker  open  close\n",
       "date                          \n",
       "2018-12-31   AAPL    99     99\n",
       "2019-12-31   AAPL   110    120\n",
       "2020-12-31   AAPL   205    210"
      ]
     },
     "execution_count": 35,
     "metadata": {},
     "output_type": "execute_result"
    }
   ],
   "source": [
    "# resample to annual frequency selecting the values at the end of each year\n",
    "# backfill missing with previous non null value\n",
    "df.asfreq('A', method='ffill')"
   ]
  },
  {
   "cell_type": "code",
   "execution_count": 45,
   "metadata": {},
   "outputs": [
    {
     "name": "stdout",
     "output_type": "stream",
     "text": [
      "           ticker  open  close\n",
      "date                          \n",
      "2020-04-02   AAPL   100     90\n",
      "2020-04-03   AAPL   110    120\n",
      "2020-04-07   AAPL   200    205\n",
      "2020-04-08   AAPL   205    210\n",
      "DatetimeIndex(['2020-04-02', '2020-04-03', '2020-04-07', '2020-04-08'], dtype='datetime64[ns]', name='date', freq=None)\n"
     ]
    },
    {
     "data": {
      "text/html": [
       "<div>\n",
       "<style scoped>\n",
       "    .dataframe tbody tr th:only-of-type {\n",
       "        vertical-align: middle;\n",
       "    }\n",
       "\n",
       "    .dataframe tbody tr th {\n",
       "        vertical-align: top;\n",
       "    }\n",
       "\n",
       "    .dataframe thead th {\n",
       "        text-align: right;\n",
       "    }\n",
       "</style>\n",
       "<table border=\"1\" class=\"dataframe\">\n",
       "  <thead>\n",
       "    <tr style=\"text-align: right;\">\n",
       "      <th></th>\n",
       "      <th>ticker</th>\n",
       "      <th>open</th>\n",
       "      <th>close</th>\n",
       "    </tr>\n",
       "    <tr>\n",
       "      <th>date</th>\n",
       "      <th></th>\n",
       "      <th></th>\n",
       "      <th></th>\n",
       "    </tr>\n",
       "  </thead>\n",
       "  <tbody>\n",
       "    <tr>\n",
       "      <th>2020-04-02</th>\n",
       "      <td>AAPL</td>\n",
       "      <td>100.0</td>\n",
       "      <td>90.0</td>\n",
       "    </tr>\n",
       "    <tr>\n",
       "      <th>2020-04-03</th>\n",
       "      <td>AAPL</td>\n",
       "      <td>110.0</td>\n",
       "      <td>120.0</td>\n",
       "    </tr>\n",
       "    <tr>\n",
       "      <th>2020-04-06</th>\n",
       "      <td>NaN</td>\n",
       "      <td>NaN</td>\n",
       "      <td>NaN</td>\n",
       "    </tr>\n",
       "    <tr>\n",
       "      <th>2020-04-07</th>\n",
       "      <td>AAPL</td>\n",
       "      <td>200.0</td>\n",
       "      <td>205.0</td>\n",
       "    </tr>\n",
       "    <tr>\n",
       "      <th>2020-04-08</th>\n",
       "      <td>AAPL</td>\n",
       "      <td>205.0</td>\n",
       "      <td>210.0</td>\n",
       "    </tr>\n",
       "  </tbody>\n",
       "</table>\n",
       "</div>"
      ],
      "text/plain": [
       "           ticker   open  close\n",
       "date                           \n",
       "2020-04-02   AAPL  100.0   90.0\n",
       "2020-04-03   AAPL  110.0  120.0\n",
       "2020-04-06    NaN    NaN    NaN\n",
       "2020-04-07   AAPL  200.0  205.0\n",
       "2020-04-08   AAPL  205.0  210.0"
      ]
     },
     "execution_count": 45,
     "metadata": {},
     "output_type": "execute_result"
    }
   ],
   "source": [
    "# giving DataFrame df with DatetimeIndex\n",
    "data = {'ticker': ['AAPL', 'AAPL', 'AAPL', 'AAPL'],\n",
    "        'open': [100, 110, 200, 205],\n",
    "        'close': [90, 120, 205, 210]\n",
    "       }\n",
    "index = ['2020-04-02', '2020-04-03', '2020-04-07', '2020-04-08']\n",
    "df = pd.DataFrame(data, index)\n",
    "df.index.name = 'date'\n",
    "df.index = pd.DatetimeIndex(df.index)\n",
    "\n",
    "print(df)\n",
    "\n",
    "print(df.index)\n",
    "\n",
    "# add all missing business dates between begin/end dates (date 2020-04-06)\n",
    "df_all_weekdays = pd.date_range(start=df.index.min(), end=df.index.max(), freq='B')\n",
    "df = df.reindex(df_all_weekdays)\n",
    "df.index.name = 'date'\n",
    "df\n",
    "\n"
   ]
  },
  {
   "cell_type": "code",
   "execution_count": 48,
   "metadata": {},
   "outputs": [
    {
     "name": "stdout",
     "output_type": "stream",
     "text": [
      "           ticker  open  close\n",
      "date                          \n",
      "2020-04-02   AAPL   100     90\n",
      "2020-04-03   AAPL   110    120\n",
      "2020-04-07   AAPL   200    205\n",
      "2020-04-08   AAPL   205    210\n",
      "DatetimeIndex(['2020-04-02', '2020-04-03', '2020-04-07', '2020-04-08'], dtype='datetime64[ns]', name='date', freq=None)\n"
     ]
    },
    {
     "data": {
      "text/html": [
       "<div>\n",
       "<style scoped>\n",
       "    .dataframe tbody tr th:only-of-type {\n",
       "        vertical-align: middle;\n",
       "    }\n",
       "\n",
       "    .dataframe tbody tr th {\n",
       "        vertical-align: top;\n",
       "    }\n",
       "\n",
       "    .dataframe thead th {\n",
       "        text-align: right;\n",
       "    }\n",
       "</style>\n",
       "<table border=\"1\" class=\"dataframe\">\n",
       "  <thead>\n",
       "    <tr style=\"text-align: right;\">\n",
       "      <th></th>\n",
       "      <th>ticker</th>\n",
       "      <th>open</th>\n",
       "      <th>close</th>\n",
       "    </tr>\n",
       "    <tr>\n",
       "      <th>date</th>\n",
       "      <th></th>\n",
       "      <th></th>\n",
       "      <th></th>\n",
       "    </tr>\n",
       "  </thead>\n",
       "  <tbody>\n",
       "    <tr>\n",
       "      <th>2020-04-02</th>\n",
       "      <td>AAPL</td>\n",
       "      <td>100</td>\n",
       "      <td>90</td>\n",
       "    </tr>\n",
       "    <tr>\n",
       "      <th>2020-04-03</th>\n",
       "      <td>AAPL</td>\n",
       "      <td>110</td>\n",
       "      <td>120</td>\n",
       "    </tr>\n",
       "    <tr>\n",
       "      <th>2020-04-06</th>\n",
       "      <td>AAPL</td>\n",
       "      <td>200</td>\n",
       "      <td>205</td>\n",
       "    </tr>\n",
       "    <tr>\n",
       "      <th>2020-04-07</th>\n",
       "      <td>AAPL</td>\n",
       "      <td>200</td>\n",
       "      <td>205</td>\n",
       "    </tr>\n",
       "    <tr>\n",
       "      <th>2020-04-08</th>\n",
       "      <td>AAPL</td>\n",
       "      <td>205</td>\n",
       "      <td>210</td>\n",
       "    </tr>\n",
       "  </tbody>\n",
       "</table>\n",
       "</div>"
      ],
      "text/plain": [
       "           ticker  open  close\n",
       "date                          \n",
       "2020-04-02   AAPL   100     90\n",
       "2020-04-03   AAPL   110    120\n",
       "2020-04-06   AAPL   200    205\n",
       "2020-04-07   AAPL   200    205\n",
       "2020-04-08   AAPL   205    210"
      ]
     },
     "execution_count": 48,
     "metadata": {},
     "output_type": "execute_result"
    }
   ],
   "source": [
    "# Add missing business dates in a time series, backfill them with previous row’s data\n",
    "# giving DataFrame df with DatetimeIndex\n",
    "data = {'ticker': ['AAPL', 'AAPL', 'AAPL', 'AAPL'],\n",
    "        'open': [100, 110, 200, 205],\n",
    "        'close': [90, 120, 205, 210]\n",
    "       }\n",
    "index = ['2020-04-02', '2020-04-03', '2020-04-07', '2020-04-08']\n",
    "df = pd.DataFrame(data, index)\n",
    "df.index.name = 'date'\n",
    "df.index = pd.DatetimeIndex(df.index)\n",
    "\n",
    "print(df)\n",
    "\n",
    "print(df.index)\n",
    "\n",
    "# add all missing business dates between begin/end dates (date 2020-04-06)\n",
    "\n",
    "df_all_weekdays = pd.date_range(start=df.index.min(), end=df.index.max(), freq='B')\n",
    "df = df.reindex(df_all_weekdays, method='ffill') # or df = df.reindex(df_all_weekdays, method='bfill') to backfill\n",
    "df.index.name = 'date'\n",
    "df"
   ]
  }
 ],
 "metadata": {
  "kernelspec": {
   "display_name": "Python 3",
   "language": "python",
   "name": "python3"
  },
  "language_info": {
   "codemirror_mode": {
    "name": "ipython",
    "version": 3
   },
   "file_extension": ".py",
   "mimetype": "text/x-python",
   "name": "python",
   "nbconvert_exporter": "python",
   "pygments_lexer": "ipython3",
   "version": "3.8.3"
  }
 },
 "nbformat": 4,
 "nbformat_minor": 4
}
