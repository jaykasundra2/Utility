{
 "cells": [
  {
   "cell_type": "markdown",
   "metadata": {},
   "source": [
    "### Logistic Regression Model"
   ]
  },
  {
   "cell_type": "code",
   "execution_count": 56,
   "metadata": {},
   "outputs": [
    {
     "name": "stdout",
     "output_type": "stream",
     "text": [
      "accuracy 0.6974789915966386\n",
      "                        precision    recall  f1-score   support\n",
      "\n",
      "            Bulk Close       0.00      0.00      0.00         1\n",
      "Close - False Positive       0.19      0.44      0.27         9\n",
      "         Close - Issue       0.00      0.00      0.00         1\n",
      "     Close - Non Issue       0.89      0.88      0.89       120\n",
      "Close - Out Of Context       0.00      0.00      0.00        14\n",
      "                Closed       0.17      0.50      0.25         2\n",
      "            In Process       0.69      0.53      0.60       549\n",
      "         Investigating       0.71      0.78      0.74       868\n",
      "                   New       0.66      0.74      0.69       340\n",
      "\n",
      "              accuracy                           0.70      1904\n",
      "             macro avg       0.37      0.43      0.38      1904\n",
      "          weighted avg       0.70      0.70      0.69      1904\n",
      "\n",
      "Fitting 5 folds for each of 8 candidates, totalling 40 fits\n"
     ]
    },
    {
     "name": "stderr",
     "output_type": "stream",
     "text": [
      "[Parallel(n_jobs=4)]: Using backend LokyBackend with 4 concurrent workers.\n",
      "[Parallel(n_jobs=4)]: Done   5 tasks      | elapsed:    1.7s\n",
      "[Parallel(n_jobs=4)]: Done  10 tasks      | elapsed:    1.8s\n",
      "[Parallel(n_jobs=4)]: Done  17 tasks      | elapsed:    3.2s\n",
      "[Parallel(n_jobs=4)]: Done  24 tasks      | elapsed:    3.3s\n",
      "[Parallel(n_jobs=4)]: Done  33 tasks      | elapsed:    4.0s\n",
      "[Parallel(n_jobs=4)]: Done  38 out of  40 | elapsed:    4.8s remaining:    0.2s\n",
      "[Parallel(n_jobs=4)]: Done  40 out of  40 | elapsed:    5.3s finished\n"
     ]
    },
    {
     "name": "stdout",
     "output_type": "stream",
     "text": [
      "Best score and parameter combination = \n",
      "0.730008579721025\n",
      "{'C': 100.0, 'penalty': 'l2'}\n"
     ]
    }
   ],
   "source": [
    "logreg = linear_model.LogisticRegression(n_jobs=4, C=1e5).fit(X_train, y_train)\n",
    "\n",
    "y_pred = logreg.predict(X_test)\n",
    "\n",
    "print('accuracy %s' % accuracy_score(y_pred, y_test))\n",
    "print(classification_report(y_test, y_pred,target_names=None))\n",
    "\n",
    "parameters = {}\n",
    "parameters['penalty'] = ['l1','l2']\n",
    "parameters['C'] = [1e2,1e3,1e4,1e5]\n",
    "\n",
    "CV = GridSearchCV(logreg, parameters,  n_jobs= 4, cv=5, verbose=10)\n",
    "CV.fit(X_train, y_train)   \n",
    "\n",
    "print('Best score and parameter combination = ')\n",
    "print(CV.best_score_)    \n",
    "print(CV.best_params_)   "
   ]
  }
 ],
 "metadata": {
  "kernelspec": {
   "display_name": "Python 3",
   "language": "python",
   "name": "python3"
  },
  "language_info": {
   "codemirror_mode": {
    "name": "ipython",
    "version": 3
   },
   "file_extension": ".py",
   "mimetype": "text/x-python",
   "name": "python",
   "nbconvert_exporter": "python",
   "pygments_lexer": "ipython3",
   "version": "3.8.3"
  }
 },
 "nbformat": 4,
 "nbformat_minor": 4
}
